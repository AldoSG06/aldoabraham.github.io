{
  "nbformat": 4,
  "nbformat_minor": 0,
  "metadata": {
    "colab": {
      "provenance": [],
      "authorship_tag": "ABX9TyNTJtUeU3qUBjvdm+q3f6qC",
      "include_colab_link": true
    },
    "kernelspec": {
      "name": "python3",
      "display_name": "Python 3"
    },
    "language_info": {
      "name": "python"
    }
  },
  "cells": [
    {
      "cell_type": "markdown",
      "metadata": {
        "id": "view-in-github",
        "colab_type": "text"
      },
      "source": [
        "<a href=\"https://colab.research.google.com/github/AldoSG06/aldoabraham.github.io/blob/main/Python_for_Everybody.ipynb\" target=\"_parent\"><img src=\"https://colab.research.google.com/assets/colab-badge.svg\" alt=\"Open In Colab\"/></a>"
      ]
    },
    {
      "cell_type": "markdown",
      "source": [
        "1. Entrada y salida de datos"
      ],
      "metadata": {
        "id": "RaH-OrcBCmnk"
      }
    },
    {
      "cell_type": "code",
      "source": [
        "# input(): Solicita al usuario que introduzca algo (como texto o número)\n",
        "nombre = input(\"Ingresa tu nombre: \")\n",
        "print(\"Bienvenido(a),\", nombre)"
      ],
      "metadata": {
        "colab": {
          "base_uri": "https://localhost:8080/"
        },
        "id": "xySbmR7JCZfJ",
        "outputId": "27e0f44b-1da0-4d86-d4af-5e9ab574da64"
      },
      "execution_count": null,
      "outputs": [
        {
          "output_type": "stream",
          "name": "stdout",
          "text": [
            "Ingresa tu nombre: Aldo\n",
            "Bienvenido(a), Aldo\n"
          ]
        }
      ]
    },
    {
      "cell_type": "markdown",
      "source": [
        "2. Variables y tipos básicos"
      ],
      "metadata": {
        "id": "0biCGSqsCxp4"
      }
    },
    {
      "cell_type": "code",
      "source": [
        "horas = input(\"Ingresa horas trabajadas: \")\n",
        "rata = input(\"Ingresa tarifa por hora: \")\n",
        "h = float(horas)\n",
        "r = float(rata)\n",
        "pago = h * r\n",
        "print(\"Pago bruto:\", pago)"
      ],
      "metadata": {
        "colab": {
          "base_uri": "https://localhost:8080/"
        },
        "id": "gCQZs8sTC2Ex",
        "outputId": "8cece6a3-6fac-496c-bf48-62de91b47985"
      },
      "execution_count": null,
      "outputs": [
        {
          "output_type": "stream",
          "name": "stdout",
          "text": [
            "Ingresa horas trabajadas: 35\n",
            "Ingresa tarifa por hora: 10.5\n",
            "Pago bruto: 367.5\n"
          ]
        }
      ]
    },
    {
      "cell_type": "markdown",
      "source": [
        "3. Estructuras de decisión"
      ],
      "metadata": {
        "id": "ohlHi0S_C48X"
      }
    },
    {
      "cell_type": "code",
      "source": [
        "# Ejemplo con pago extra por horas extra\n",
        "def computepay(horas, tarifa):\n",
        "    if horas > 40:\n",
        "        extra = (horas - 40) * tarifa * 1.5\n",
        "        total = 40 * tarifa + extra\n",
        "    else:\n",
        "        total = horas * tarifa\n",
        "    return total\n",
        "\n",
        "h = float(input(\"Horas: \"))\n",
        "r = float(input(\"Tarifa: \"))\n",
        "print(\"Pago:\", computepay(h, r))"
      ],
      "metadata": {
        "colab": {
          "base_uri": "https://localhost:8080/"
        },
        "id": "FxleJj8HC5vy",
        "outputId": "4a9ca1e6-9521-4740-e613-72e0b5757998"
      },
      "execution_count": null,
      "outputs": [
        {
          "output_type": "stream",
          "name": "stdout",
          "text": [
            "Horas: 35\n",
            "Tarifa: 10\n",
            "Pago: 350.0\n"
          ]
        }
      ]
    },
    {
      "cell_type": "markdown",
      "source": [
        "4. Manejo de errores con try/except"
      ],
      "metadata": {
        "id": "apl1wghdC6yq"
      }
    },
    {
      "cell_type": "code",
      "source": [
        "try:\n",
        "    puntaje = float(input(\"Ingresa un puntaje entre 0.0 y 1.0: \"))\n",
        "    if puntaje < 0.0 or puntaje > 1.0:\n",
        "        print(\"Error: fuera de rango\")\n",
        "    elif puntaje >= 0.9:\n",
        "        print(\"A\")\n",
        "    elif puntaje >= 0.8:\n",
        "        print(\"B\")\n",
        "    elif puntaje >= 0.7:\n",
        "        print(\"C\")\n",
        "    elif puntaje >= 0.6:\n",
        "        print(\"D\")\n",
        "    else:\n",
        "        print(\"F\")\n",
        "except:\n",
        "    print(\"Error: entrada inválida\")"
      ],
      "metadata": {
        "colab": {
          "base_uri": "https://localhost:8080/"
        },
        "id": "pGufHWWWC7BJ",
        "outputId": "7cb6e11d-178e-4dfd-aa91-05f6a208835f"
      },
      "execution_count": null,
      "outputs": [
        {
          "output_type": "stream",
          "name": "stdout",
          "text": [
            "Ingresa un puntaje entre 0.0 y 1.0: 0.5\n",
            "F\n"
          ]
        }
      ]
    },
    {
      "cell_type": "markdown",
      "source": [
        "5. Funciones"
      ],
      "metadata": {
        "id": "gZEs7Zu7C7aQ"
      }
    },
    {
      "cell_type": "code",
      "source": [
        "def saluda(nombre):\n",
        "    return \"Hola \" + nombre\n",
        "print(saluda(\"Michael\"))\n",
        "\n",
        "# Función que retorna el mayor de dos números\n",
        "def mayor(a, b):\n",
        "    if a > b:\n",
        "        return a\n",
        "    else:\n",
        "        return b\n",
        "print(\"Mayor entre 5 y 7:\", mayor(5, 7))\n"
      ],
      "metadata": {
        "colab": {
          "base_uri": "https://localhost:8080/"
        },
        "id": "WyjiJM-4C7o1",
        "outputId": "a64cbc99-aca1-4558-825b-835e2290d969"
      },
      "execution_count": null,
      "outputs": [
        {
          "output_type": "stream",
          "name": "stdout",
          "text": [
            "Hola Michael\n",
            "Mayor entre 5 y 7: 7\n"
          ]
        }
      ]
    },
    {
      "cell_type": "markdown",
      "source": [
        "6. Bucles while y for"
      ],
      "metadata": {
        "id": "w4LhCbkzC741"
      }
    },
    {
      "cell_type": "code",
      "source": [
        "# Bucle con while\n",
        "n = 5\n",
        "while n > 0:\n",
        "    print(n)\n",
        "    n = n - 1\n",
        "print(\"Hecho\")\n",
        "\n",
        "# Bucle con for\n",
        "for letra in \"banana\":\n",
        "    print(letra)\n",
        "\n",
        "# Bucle con lista\n",
        "numeros = [3, 41, 12, 9, 74, 15]\n",
        "total = 0\n",
        "for num in numeros:\n",
        "    total = total + num\n",
        "print(\"Suma:\", total)\n",
        "\n",
        "# Buscar el máximo\n",
        "mayor = None\n",
        "for num in numeros:\n",
        "    if mayor is None or num > mayor:\n",
        "        mayor = num\n",
        "print(\"Mayor:\", mayor)\n",
        "\n",
        "# Buscar el mínimo\n",
        "menor = None\n",
        "for num in numeros:\n",
        "    if menor is None or num < menor:\n",
        "        menor = num\n",
        "print(\"Menor:\", menor)"
      ],
      "metadata": {
        "colab": {
          "base_uri": "https://localhost:8080/"
        },
        "id": "cENu1a4ZC8Dp",
        "outputId": "9990bda6-89ce-484d-b148-7aaf47a570f8"
      },
      "execution_count": null,
      "outputs": [
        {
          "output_type": "stream",
          "name": "stdout",
          "text": [
            "5\n",
            "4\n",
            "3\n",
            "2\n",
            "1\n",
            "Hecho\n",
            "b\n",
            "a\n",
            "n\n",
            "a\n",
            "n\n",
            "a\n",
            "Suma: 154\n",
            "Mayor: 74\n",
            "Menor: 3\n"
          ]
        }
      ]
    },
    {
      "cell_type": "markdown",
      "source": [
        "7. Cadenas de texto"
      ],
      "metadata": {
        "id": "sMPH-PQjC8SH"
      }
    },
    {
      "cell_type": "code",
      "source": [
        "cadena = \"From marquard@uct.ac.za\"\n",
        "print(\"Longitud:\", len(cadena))\n",
        "print(\"Primera letra:\", cadena[0])\n",
        "print(\"Slicing (14:17):\", cadena[14:17])\n",
        "print(\"Mayúsculas:\", cadena.upper())\n",
        "\n",
        "# Buscar y extraer valor decimal en una cadena\n",
        "text = \"X-DSPAM-Confidence:    0.8475\"\n",
        "pos = text.find(':')\n",
        "num = float(text[pos+1:].strip())\n",
        "print(\"Valor extraído:\", num)"
      ],
      "metadata": {
        "colab": {
          "base_uri": "https://localhost:8080/"
        },
        "id": "mEJdyqLmC8cS",
        "outputId": "6f346d75-d40b-4d14-c8a9-8bd3717b30b1"
      },
      "execution_count": null,
      "outputs": [
        {
          "output_type": "stream",
          "name": "stdout",
          "text": [
            "Longitud: 23\n",
            "Primera letra: F\n",
            "Slicing (14:17): uct\n",
            "Mayúsculas: FROM MARQUARD@UCT.AC.ZA\n",
            "Valor extraído: 0.8475\n"
          ]
        }
      ]
    },
    {
      "cell_type": "markdown",
      "source": [
        "8. Archivos"
      ],
      "metadata": {
        "id": "lxrGRDa7Dkf7"
      }
    },
    {
      "cell_type": "code",
      "source": [
        "# Leer archivo línea por línea y convertir a mayúsculas\n",
        "fname = \"words.txt\"  # reemplazar por ruta en Colab si es necesario\n",
        "try:\n",
        "    fh = open(fname)\n",
        "    for line in fh:\n",
        "        print(line.rstrip().upper())\n",
        "except:\n",
        "    print(\"Archivo no encontrado\")\n",
        "\n",
        "# Calcular promedio de valores tipo X-DSPAM-Confidence:\n",
        "fname = \"mbox-short.txt\"\n",
        "fh = open(fname)\n",
        "count = 0\n",
        "total = 0.0\n",
        "for line in fh:\n",
        "    if line.startswith(\"X-DSPAM-Confidence:\"):\n",
        "        pos = line.find(':')\n",
        "        val = float(line[pos+1:].strip())\n",
        "        total += val\n",
        "        count += 1\n",
        "if count > 0:\n",
        "    print(\"Promedio de confianza:\", total / count)\n",
        "else:\n",
        "    print(\"No se encontraron líneas válidas\")"
      ],
      "metadata": {
        "colab": {
          "base_uri": "https://localhost:8080/",
          "height": 228
        },
        "id": "iwaj0gz0DkuK",
        "outputId": "b47c674b-784c-4245-8b79-cbaf2f6ca3e3"
      },
      "execution_count": null,
      "outputs": [
        {
          "output_type": "stream",
          "name": "stdout",
          "text": [
            "Archivo no encontrado\n"
          ]
        },
        {
          "output_type": "error",
          "ename": "FileNotFoundError",
          "evalue": "[Errno 2] No such file or directory: 'mbox-short.txt'",
          "traceback": [
            "\u001b[0;31m---------------------------------------------------------------------------\u001b[0m",
            "\u001b[0;31mFileNotFoundError\u001b[0m                         Traceback (most recent call last)",
            "\u001b[0;32m/tmp/ipython-input-9-2844298552.py\u001b[0m in \u001b[0;36m<cell line: 0>\u001b[0;34m()\u001b[0m\n\u001b[1;32m     10\u001b[0m \u001b[0;31m# Calcular promedio de valores tipo X-DSPAM-Confidence:\u001b[0m\u001b[0;34m\u001b[0m\u001b[0;34m\u001b[0m\u001b[0m\n\u001b[1;32m     11\u001b[0m \u001b[0mfname\u001b[0m \u001b[0;34m=\u001b[0m \u001b[0;34m\"mbox-short.txt\"\u001b[0m\u001b[0;34m\u001b[0m\u001b[0;34m\u001b[0m\u001b[0m\n\u001b[0;32m---> 12\u001b[0;31m \u001b[0mfh\u001b[0m \u001b[0;34m=\u001b[0m \u001b[0mopen\u001b[0m\u001b[0;34m(\u001b[0m\u001b[0mfname\u001b[0m\u001b[0;34m)\u001b[0m\u001b[0;34m\u001b[0m\u001b[0;34m\u001b[0m\u001b[0m\n\u001b[0m\u001b[1;32m     13\u001b[0m \u001b[0mcount\u001b[0m \u001b[0;34m=\u001b[0m \u001b[0;36m0\u001b[0m\u001b[0;34m\u001b[0m\u001b[0;34m\u001b[0m\u001b[0m\n\u001b[1;32m     14\u001b[0m \u001b[0mtotal\u001b[0m \u001b[0;34m=\u001b[0m \u001b[0;36m0.0\u001b[0m\u001b[0;34m\u001b[0m\u001b[0;34m\u001b[0m\u001b[0m\n",
            "\u001b[0;31mFileNotFoundError\u001b[0m: [Errno 2] No such file or directory: 'mbox-short.txt'"
          ]
        }
      ]
    },
    {
      "cell_type": "code",
      "source": [
        "largest = None\n",
        "smallest = None\n",
        "\n",
        "while True:\n",
        "    num = input(\"Enter a number: \")\n",
        "    if num == \"done\":\n",
        "        break\n",
        "    try:\n",
        "        n = int(num)\n",
        "    except:\n",
        "        print(\"Invalid input\")\n",
        "        continue\n",
        "\n",
        "    if largest is None or n > largest:\n",
        "        largest = n\n",
        "    if smallest is None or n < smallest:\n",
        "        smallest = n\n",
        "\n",
        "print(\"Maximum\", largest)\n",
        "print(\"Minimum\", smallest)"
      ],
      "metadata": {
        "colab": {
          "base_uri": "https://localhost:8080/"
        },
        "id": "DCARGQkNKFcx",
        "outputId": "21d1f5d7-c61d-49c4-bd11-7c5bb2bbcbf6"
      },
      "execution_count": 1,
      "outputs": [
        {
          "output_type": "stream",
          "name": "stdout",
          "text": [
            "Enter a number: 10\n",
            "Enter a number: 5\n",
            "Enter a number: 20\n",
            "Enter a number: 3\n",
            "Enter a number: done\n",
            "Maximum 20\n",
            "Minimum 3\n"
          ]
        }
      ]
    },
    {
      "cell_type": "markdown",
      "source": [
        "9. Extra: Manejo de excepciones en apertura de archivo"
      ],
      "metadata": {
        "id": "y7TjxUiZDsrb"
      }
    },
    {
      "cell_type": "code",
      "source": [
        "fname = input(\"Nombre del archivo: \")\n",
        "try:\n",
        "    fh = open(fname)\n",
        "    print(fh.read())\n",
        "except:\n",
        "    print(\"No se pudo abrir el archivo\")"
      ],
      "metadata": {
        "colab": {
          "base_uri": "https://localhost:8080/"
        },
        "id": "vPEleLHrDs1X",
        "outputId": "34f25143-a91c-494c-8c1a-c997f2dea4fa"
      },
      "execution_count": null,
      "outputs": [
        {
          "output_type": "stream",
          "name": "stdout",
          "text": [
            "Nombre del archivo: bla\n",
            "No se pudo abrir el archivo\n"
          ]
        }
      ]
    },
    {
      "cell_type": "markdown",
      "source": [
        "10. Listas, tuplas y diccionarios"
      ],
      "metadata": {
        "id": "9vQ6qT-gKVCx"
      }
    },
    {
      "cell_type": "code",
      "source": [
        "# Ejemplo: diccionario de conteo de palabras\n",
        "text = \"hello world hello again\"\n",
        "counts = dict()\n",
        "for word in text.split():\n",
        "    counts[word] = counts.get(word, 0) + 1\n",
        "print(counts)\n",
        "\n",
        "# Ordenar diccionario por valores con tuplas\n",
        "tmp = []\n",
        "for k, v in counts.items():\n",
        "    tmp.append((v, k))\n",
        "tmp = sorted(tmp, reverse=True)\n",
        "print(\"Top words:\", tmp)"
      ],
      "metadata": {
        "id": "IRHWXLRnKVSp"
      },
      "execution_count": null,
      "outputs": []
    },
    {
      "cell_type": "markdown",
      "source": [
        "*** Notas relevantes ***"
      ],
      "metadata": {
        "id": "IhZspfhzKc-q"
      }
    },
    {
      "cell_type": "code",
      "source": [
        "# - Los strings son inmutables, pero las listas y diccionarios son mutables.\n",
        "# - Las tuplas son como listas pero no se pueden modificar.\n",
        "# - range(n) genera una lista de enteros del 0 al n-1.\n",
        "# - .split() divide una cadena en palabras, .strip() elimina espacios.\n",
        "# - Es buena práctica cerrar archivos con fh.close().\n",
        "# - upper(), lower(), find(), index() son métodos comunes en cadenas."
      ],
      "metadata": {
        "id": "WhGZMsh_KieV"
      },
      "execution_count": null,
      "outputs": []
    }
  ]
}